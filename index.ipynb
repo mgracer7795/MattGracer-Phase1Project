{
 "cells": [
  {
   "cell_type": "markdown",
   "metadata": {},
   "source": [
    "## Final Project Submission\n",
    "\n",
    "Please fill out:\n",
    "* Student name: Matt Gracer, Ali Hijazy\n",
    "* Student pace: full time\n",
    "* Scheduled project review date/time: \n",
    "* Instructor name: \n",
    "* Blog post URL:\n"
   ]
  },
  {
   "cell_type": "markdown",
   "metadata": {},
   "source": [
    "### Import Libraries"
   ]
  },
  {
   "cell_type": "code",
   "execution_count": 1,
   "metadata": {},
   "outputs": [],
   "source": [
    "import pandas as pd\n",
    "import matplotlib.pyplot as plt\n",
    "import numpy as np\n",
    "%matplotlib inline"
   ]
  },
  {
   "cell_type": "markdown",
   "metadata": {},
   "source": [
    "### Load the csv File"
   ]
  },
  {
   "cell_type": "code",
   "execution_count": 2,
   "metadata": {},
   "outputs": [
    {
     "name": "stderr",
     "output_type": "stream",
     "text": [
      "C:\\DS_Softwares\\Anaconda3\\envs\\learn-env\\lib\\site-packages\\IPython\\core\\interactiveshell.py:3145: DtypeWarning: Columns (6,7,28) have mixed types.Specify dtype option on import or set low_memory=False.\n",
      "  has_raised = await self.run_ast_nodes(code_ast.body, cell_name,\n"
     ]
    }
   ],
   "source": [
    "df = pd.read_csv(\"data/Aviation_Data.csv\")"
   ]
  },
  {
   "cell_type": "markdown",
   "metadata": {},
   "source": [
    "### View the Data"
   ]
  },
  {
   "cell_type": "code",
   "execution_count": 3,
   "metadata": {},
   "outputs": [
    {
     "data": {
      "text/html": [
       "<div>\n",
       "<style scoped>\n",
       "    .dataframe tbody tr th:only-of-type {\n",
       "        vertical-align: middle;\n",
       "    }\n",
       "\n",
       "    .dataframe tbody tr th {\n",
       "        vertical-align: top;\n",
       "    }\n",
       "\n",
       "    .dataframe thead th {\n",
       "        text-align: right;\n",
       "    }\n",
       "</style>\n",
       "<table border=\"1\" class=\"dataframe\">\n",
       "  <thead>\n",
       "    <tr style=\"text-align: right;\">\n",
       "      <th></th>\n",
       "      <th>Event.Id</th>\n",
       "      <th>Investigation.Type</th>\n",
       "      <th>Accident.Number</th>\n",
       "      <th>Event.Date</th>\n",
       "      <th>Location</th>\n",
       "      <th>Country</th>\n",
       "      <th>Latitude</th>\n",
       "      <th>Longitude</th>\n",
       "      <th>Airport.Code</th>\n",
       "      <th>Airport.Name</th>\n",
       "      <th>...</th>\n",
       "      <th>Purpose.of.flight</th>\n",
       "      <th>Air.carrier</th>\n",
       "      <th>Total.Fatal.Injuries</th>\n",
       "      <th>Total.Serious.Injuries</th>\n",
       "      <th>Total.Minor.Injuries</th>\n",
       "      <th>Total.Uninjured</th>\n",
       "      <th>Weather.Condition</th>\n",
       "      <th>Broad.phase.of.flight</th>\n",
       "      <th>Report.Status</th>\n",
       "      <th>Publication.Date</th>\n",
       "    </tr>\n",
       "  </thead>\n",
       "  <tbody>\n",
       "    <tr>\n",
       "      <th>0</th>\n",
       "      <td>20001218X45444</td>\n",
       "      <td>Accident</td>\n",
       "      <td>SEA87LA080</td>\n",
       "      <td>1948-10-24</td>\n",
       "      <td>MOOSE CREEK, ID</td>\n",
       "      <td>United States</td>\n",
       "      <td>NaN</td>\n",
       "      <td>NaN</td>\n",
       "      <td>NaN</td>\n",
       "      <td>NaN</td>\n",
       "      <td>...</td>\n",
       "      <td>Personal</td>\n",
       "      <td>NaN</td>\n",
       "      <td>2.0</td>\n",
       "      <td>0.0</td>\n",
       "      <td>0.0</td>\n",
       "      <td>0.0</td>\n",
       "      <td>UNK</td>\n",
       "      <td>Cruise</td>\n",
       "      <td>Probable Cause</td>\n",
       "      <td>NaN</td>\n",
       "    </tr>\n",
       "    <tr>\n",
       "      <th>1</th>\n",
       "      <td>20001218X45447</td>\n",
       "      <td>Accident</td>\n",
       "      <td>LAX94LA336</td>\n",
       "      <td>1962-07-19</td>\n",
       "      <td>BRIDGEPORT, CA</td>\n",
       "      <td>United States</td>\n",
       "      <td>NaN</td>\n",
       "      <td>NaN</td>\n",
       "      <td>NaN</td>\n",
       "      <td>NaN</td>\n",
       "      <td>...</td>\n",
       "      <td>Personal</td>\n",
       "      <td>NaN</td>\n",
       "      <td>4.0</td>\n",
       "      <td>0.0</td>\n",
       "      <td>0.0</td>\n",
       "      <td>0.0</td>\n",
       "      <td>UNK</td>\n",
       "      <td>Unknown</td>\n",
       "      <td>Probable Cause</td>\n",
       "      <td>19-09-1996</td>\n",
       "    </tr>\n",
       "    <tr>\n",
       "      <th>2</th>\n",
       "      <td>20061025X01555</td>\n",
       "      <td>Accident</td>\n",
       "      <td>NYC07LA005</td>\n",
       "      <td>1974-08-30</td>\n",
       "      <td>Saltville, VA</td>\n",
       "      <td>United States</td>\n",
       "      <td>36.9222</td>\n",
       "      <td>-81.8781</td>\n",
       "      <td>NaN</td>\n",
       "      <td>NaN</td>\n",
       "      <td>...</td>\n",
       "      <td>Personal</td>\n",
       "      <td>NaN</td>\n",
       "      <td>3.0</td>\n",
       "      <td>NaN</td>\n",
       "      <td>NaN</td>\n",
       "      <td>NaN</td>\n",
       "      <td>IMC</td>\n",
       "      <td>Cruise</td>\n",
       "      <td>Probable Cause</td>\n",
       "      <td>26-02-2007</td>\n",
       "    </tr>\n",
       "    <tr>\n",
       "      <th>3</th>\n",
       "      <td>20001218X45448</td>\n",
       "      <td>Accident</td>\n",
       "      <td>LAX96LA321</td>\n",
       "      <td>1977-06-19</td>\n",
       "      <td>EUREKA, CA</td>\n",
       "      <td>United States</td>\n",
       "      <td>NaN</td>\n",
       "      <td>NaN</td>\n",
       "      <td>NaN</td>\n",
       "      <td>NaN</td>\n",
       "      <td>...</td>\n",
       "      <td>Personal</td>\n",
       "      <td>NaN</td>\n",
       "      <td>2.0</td>\n",
       "      <td>0.0</td>\n",
       "      <td>0.0</td>\n",
       "      <td>0.0</td>\n",
       "      <td>IMC</td>\n",
       "      <td>Cruise</td>\n",
       "      <td>Probable Cause</td>\n",
       "      <td>12-09-2000</td>\n",
       "    </tr>\n",
       "    <tr>\n",
       "      <th>4</th>\n",
       "      <td>20041105X01764</td>\n",
       "      <td>Accident</td>\n",
       "      <td>CHI79FA064</td>\n",
       "      <td>1979-08-02</td>\n",
       "      <td>Canton, OH</td>\n",
       "      <td>United States</td>\n",
       "      <td>NaN</td>\n",
       "      <td>NaN</td>\n",
       "      <td>NaN</td>\n",
       "      <td>NaN</td>\n",
       "      <td>...</td>\n",
       "      <td>Personal</td>\n",
       "      <td>NaN</td>\n",
       "      <td>1.0</td>\n",
       "      <td>2.0</td>\n",
       "      <td>NaN</td>\n",
       "      <td>0.0</td>\n",
       "      <td>VMC</td>\n",
       "      <td>Approach</td>\n",
       "      <td>Probable Cause</td>\n",
       "      <td>16-04-1980</td>\n",
       "    </tr>\n",
       "  </tbody>\n",
       "</table>\n",
       "<p>5 rows × 31 columns</p>\n",
       "</div>"
      ],
      "text/plain": [
       "         Event.Id Investigation.Type Accident.Number  Event.Date  \\\n",
       "0  20001218X45444           Accident      SEA87LA080  1948-10-24   \n",
       "1  20001218X45447           Accident      LAX94LA336  1962-07-19   \n",
       "2  20061025X01555           Accident      NYC07LA005  1974-08-30   \n",
       "3  20001218X45448           Accident      LAX96LA321  1977-06-19   \n",
       "4  20041105X01764           Accident      CHI79FA064  1979-08-02   \n",
       "\n",
       "          Location        Country Latitude Longitude Airport.Code  \\\n",
       "0  MOOSE CREEK, ID  United States      NaN       NaN          NaN   \n",
       "1   BRIDGEPORT, CA  United States      NaN       NaN          NaN   \n",
       "2    Saltville, VA  United States  36.9222  -81.8781          NaN   \n",
       "3       EUREKA, CA  United States      NaN       NaN          NaN   \n",
       "4       Canton, OH  United States      NaN       NaN          NaN   \n",
       "\n",
       "  Airport.Name  ... Purpose.of.flight Air.carrier Total.Fatal.Injuries  \\\n",
       "0          NaN  ...          Personal         NaN                  2.0   \n",
       "1          NaN  ...          Personal         NaN                  4.0   \n",
       "2          NaN  ...          Personal         NaN                  3.0   \n",
       "3          NaN  ...          Personal         NaN                  2.0   \n",
       "4          NaN  ...          Personal         NaN                  1.0   \n",
       "\n",
       "  Total.Serious.Injuries Total.Minor.Injuries Total.Uninjured  \\\n",
       "0                    0.0                  0.0             0.0   \n",
       "1                    0.0                  0.0             0.0   \n",
       "2                    NaN                  NaN             NaN   \n",
       "3                    0.0                  0.0             0.0   \n",
       "4                    2.0                  NaN             0.0   \n",
       "\n",
       "  Weather.Condition  Broad.phase.of.flight   Report.Status Publication.Date  \n",
       "0               UNK                 Cruise  Probable Cause              NaN  \n",
       "1               UNK                Unknown  Probable Cause       19-09-1996  \n",
       "2               IMC                 Cruise  Probable Cause       26-02-2007  \n",
       "3               IMC                 Cruise  Probable Cause       12-09-2000  \n",
       "4               VMC               Approach  Probable Cause       16-04-1980  \n",
       "\n",
       "[5 rows x 31 columns]"
      ]
     },
     "execution_count": 3,
     "metadata": {},
     "output_type": "execute_result"
    }
   ],
   "source": [
    "df.head()"
   ]
  },
  {
   "cell_type": "markdown",
   "metadata": {},
   "source": [
    "### Check the Info"
   ]
  },
  {
   "cell_type": "code",
   "execution_count": 4,
   "metadata": {},
   "outputs": [
    {
     "name": "stdout",
     "output_type": "stream",
     "text": [
      "<class 'pandas.core.frame.DataFrame'>\n",
      "RangeIndex: 90348 entries, 0 to 90347\n",
      "Data columns (total 31 columns):\n",
      " #   Column                  Non-Null Count  Dtype  \n",
      "---  ------                  --------------  -----  \n",
      " 0   Event.Id                88889 non-null  object \n",
      " 1   Investigation.Type      90348 non-null  object \n",
      " 2   Accident.Number         88889 non-null  object \n",
      " 3   Event.Date              88889 non-null  object \n",
      " 4   Location                88837 non-null  object \n",
      " 5   Country                 88663 non-null  object \n",
      " 6   Latitude                34382 non-null  object \n",
      " 7   Longitude               34373 non-null  object \n",
      " 8   Airport.Code            50249 non-null  object \n",
      " 9   Airport.Name            52790 non-null  object \n",
      " 10  Injury.Severity         87889 non-null  object \n",
      " 11  Aircraft.damage         85695 non-null  object \n",
      " 12  Aircraft.Category       32287 non-null  object \n",
      " 13  Registration.Number     87572 non-null  object \n",
      " 14  Make                    88826 non-null  object \n",
      " 15  Model                   88797 non-null  object \n",
      " 16  Amateur.Built           88787 non-null  object \n",
      " 17  Number.of.Engines       82805 non-null  float64\n",
      " 18  Engine.Type             81812 non-null  object \n",
      " 19  FAR.Description         32023 non-null  object \n",
      " 20  Schedule                12582 non-null  object \n",
      " 21  Purpose.of.flight       82697 non-null  object \n",
      " 22  Air.carrier             16648 non-null  object \n",
      " 23  Total.Fatal.Injuries    77488 non-null  float64\n",
      " 24  Total.Serious.Injuries  76379 non-null  float64\n",
      " 25  Total.Minor.Injuries    76956 non-null  float64\n",
      " 26  Total.Uninjured         82977 non-null  float64\n",
      " 27  Weather.Condition       84397 non-null  object \n",
      " 28  Broad.phase.of.flight   61724 non-null  object \n",
      " 29  Report.Status           82508 non-null  object \n",
      " 30  Publication.Date        73659 non-null  object \n",
      "dtypes: float64(5), object(26)\n",
      "memory usage: 21.4+ MB\n"
     ]
    }
   ],
   "source": [
    "df.info()"
   ]
  },
  {
   "cell_type": "markdown",
   "metadata": {},
   "source": [
    "### Check the value counts for the Make field"
   ]
  },
  {
   "cell_type": "code",
   "execution_count": 5,
   "metadata": {},
   "outputs": [
    {
     "data": {
      "text/plain": [
       "Cessna              22227\n",
       "Piper               12029\n",
       "CESSNA               4922\n",
       "Beech                4330\n",
       "PIPER                2841\n",
       "                    ...  \n",
       "Flaherty                1\n",
       "Sanclemente             1\n",
       "A Pair Of Jacks         1\n",
       "Dennis P. McGurk        1\n",
       "Gray Jim Robert         1\n",
       "Name: Make, Length: 8237, dtype: int64"
      ]
     },
     "execution_count": 5,
     "metadata": {},
     "output_type": "execute_result"
    }
   ],
   "source": [
    "df['Make'].value_counts()"
   ]
  },
  {
   "cell_type": "markdown",
   "metadata": {},
   "source": [
    "### Chech the Description of The Numeric Data"
   ]
  },
  {
   "cell_type": "code",
   "execution_count": 6,
   "metadata": {},
   "outputs": [
    {
     "data": {
      "text/html": [
       "<div>\n",
       "<style scoped>\n",
       "    .dataframe tbody tr th:only-of-type {\n",
       "        vertical-align: middle;\n",
       "    }\n",
       "\n",
       "    .dataframe tbody tr th {\n",
       "        vertical-align: top;\n",
       "    }\n",
       "\n",
       "    .dataframe thead th {\n",
       "        text-align: right;\n",
       "    }\n",
       "</style>\n",
       "<table border=\"1\" class=\"dataframe\">\n",
       "  <thead>\n",
       "    <tr style=\"text-align: right;\">\n",
       "      <th></th>\n",
       "      <th>Number.of.Engines</th>\n",
       "      <th>Total.Fatal.Injuries</th>\n",
       "      <th>Total.Serious.Injuries</th>\n",
       "      <th>Total.Minor.Injuries</th>\n",
       "      <th>Total.Uninjured</th>\n",
       "    </tr>\n",
       "  </thead>\n",
       "  <tbody>\n",
       "    <tr>\n",
       "      <th>count</th>\n",
       "      <td>82805.000000</td>\n",
       "      <td>77488.000000</td>\n",
       "      <td>76379.000000</td>\n",
       "      <td>76956.000000</td>\n",
       "      <td>82977.000000</td>\n",
       "    </tr>\n",
       "    <tr>\n",
       "      <th>mean</th>\n",
       "      <td>1.146585</td>\n",
       "      <td>0.647855</td>\n",
       "      <td>0.279881</td>\n",
       "      <td>0.357061</td>\n",
       "      <td>5.325440</td>\n",
       "    </tr>\n",
       "    <tr>\n",
       "      <th>std</th>\n",
       "      <td>0.446510</td>\n",
       "      <td>5.485960</td>\n",
       "      <td>1.544084</td>\n",
       "      <td>2.235625</td>\n",
       "      <td>27.913634</td>\n",
       "    </tr>\n",
       "    <tr>\n",
       "      <th>min</th>\n",
       "      <td>0.000000</td>\n",
       "      <td>0.000000</td>\n",
       "      <td>0.000000</td>\n",
       "      <td>0.000000</td>\n",
       "      <td>0.000000</td>\n",
       "    </tr>\n",
       "    <tr>\n",
       "      <th>25%</th>\n",
       "      <td>1.000000</td>\n",
       "      <td>0.000000</td>\n",
       "      <td>0.000000</td>\n",
       "      <td>0.000000</td>\n",
       "      <td>0.000000</td>\n",
       "    </tr>\n",
       "    <tr>\n",
       "      <th>50%</th>\n",
       "      <td>1.000000</td>\n",
       "      <td>0.000000</td>\n",
       "      <td>0.000000</td>\n",
       "      <td>0.000000</td>\n",
       "      <td>1.000000</td>\n",
       "    </tr>\n",
       "    <tr>\n",
       "      <th>75%</th>\n",
       "      <td>1.000000</td>\n",
       "      <td>0.000000</td>\n",
       "      <td>0.000000</td>\n",
       "      <td>0.000000</td>\n",
       "      <td>2.000000</td>\n",
       "    </tr>\n",
       "    <tr>\n",
       "      <th>max</th>\n",
       "      <td>8.000000</td>\n",
       "      <td>349.000000</td>\n",
       "      <td>161.000000</td>\n",
       "      <td>380.000000</td>\n",
       "      <td>699.000000</td>\n",
       "    </tr>\n",
       "  </tbody>\n",
       "</table>\n",
       "</div>"
      ],
      "text/plain": [
       "       Number.of.Engines  Total.Fatal.Injuries  Total.Serious.Injuries  \\\n",
       "count       82805.000000          77488.000000            76379.000000   \n",
       "mean            1.146585              0.647855                0.279881   \n",
       "std             0.446510              5.485960                1.544084   \n",
       "min             0.000000              0.000000                0.000000   \n",
       "25%             1.000000              0.000000                0.000000   \n",
       "50%             1.000000              0.000000                0.000000   \n",
       "75%             1.000000              0.000000                0.000000   \n",
       "max             8.000000            349.000000              161.000000   \n",
       "\n",
       "       Total.Minor.Injuries  Total.Uninjured  \n",
       "count          76956.000000     82977.000000  \n",
       "mean               0.357061         5.325440  \n",
       "std                2.235625        27.913634  \n",
       "min                0.000000         0.000000  \n",
       "25%                0.000000         0.000000  \n",
       "50%                0.000000         1.000000  \n",
       "75%                0.000000         2.000000  \n",
       "max              380.000000       699.000000  "
      ]
     },
     "execution_count": 6,
     "metadata": {},
     "output_type": "execute_result"
    }
   ],
   "source": [
    "df.describe()"
   ]
  },
  {
   "cell_type": "markdown",
   "metadata": {},
   "source": [
    "### Check for Missing Values"
   ]
  },
  {
   "cell_type": "code",
   "execution_count": 7,
   "metadata": {},
   "outputs": [
    {
     "data": {
      "text/plain": [
       "Event.Id                   1459\n",
       "Investigation.Type            0\n",
       "Accident.Number            1459\n",
       "Event.Date                 1459\n",
       "Location                   1511\n",
       "Country                    1685\n",
       "Latitude                  55966\n",
       "Longitude                 55975\n",
       "Airport.Code              40099\n",
       "Airport.Name              37558\n",
       "Injury.Severity            2459\n",
       "Aircraft.damage            4653\n",
       "Aircraft.Category         58061\n",
       "Registration.Number        2776\n",
       "Make                       1522\n",
       "Model                      1551\n",
       "Amateur.Built              1561\n",
       "Number.of.Engines          7543\n",
       "Engine.Type                8536\n",
       "FAR.Description           58325\n",
       "Schedule                  77766\n",
       "Purpose.of.flight          7651\n",
       "Air.carrier               73700\n",
       "Total.Fatal.Injuries      12860\n",
       "Total.Serious.Injuries    13969\n",
       "Total.Minor.Injuries      13392\n",
       "Total.Uninjured            7371\n",
       "Weather.Condition          5951\n",
       "Broad.phase.of.flight     28624\n",
       "Report.Status              7840\n",
       "Publication.Date          16689\n",
       "dtype: int64"
      ]
     },
     "execution_count": 7,
     "metadata": {},
     "output_type": "execute_result"
    }
   ],
   "source": [
    "df.isna().sum()"
   ]
  },
  {
   "cell_type": "markdown",
   "metadata": {},
   "source": [
    "### Check the different Aircraft categories"
   ]
  },
  {
   "cell_type": "code",
   "execution_count": 8,
   "metadata": {},
   "outputs": [
    {
     "data": {
      "text/plain": [
       "Airplane             27617\n",
       "Helicopter            3440\n",
       "Glider                 508\n",
       "Balloon                231\n",
       "Gyrocraft              173\n",
       "Weight-Shift           161\n",
       "Powered Parachute       91\n",
       "Ultralight              30\n",
       "Unknown                 14\n",
       "WSFT                     9\n",
       "Powered-Lift             5\n",
       "Blimp                    4\n",
       "UNK                      2\n",
       "ULTR                     1\n",
       "Rocket                   1\n",
       "Name: Aircraft.Category, dtype: int64"
      ]
     },
     "execution_count": 8,
     "metadata": {},
     "output_type": "execute_result"
    }
   ],
   "source": [
    "df['Aircraft.Category'].value_counts()"
   ]
  },
  {
   "cell_type": "markdown",
   "metadata": {},
   "source": [
    "### Display the distribution of incidents per Aircraft category"
   ]
  },
  {
   "cell_type": "code",
   "execution_count": 9,
   "metadata": {},
   "outputs": [
    {
     "data": {
      "image/png": "[encoded data removed]",
      "text/plain": [
       "<Figure size 432x288 with 1 Axes>"
      ]
     },
     "metadata": {
      "needs_background": "light"
     },
     "output_type": "display_data"
    }
   ],
   "source": [
    "incident_per_aircraft_category = df['Aircraft.Category'].value_counts()\n",
    "\n",
    "bars = list(incident_per_aircraft_category.index)\n",
    "height = list(incident_per_aircraft_category.values)\n",
    "\n",
    "y_pos = np.arange(len(bars))\n",
    " \n",
    "# Create horizontal bars\n",
    "plt.barh(y_pos, height)\n",
    " \n",
    "# Create names on the x-axis\n",
    "plt.yticks(y_pos, bars)\n",
    " \n",
    "# Show graphic\n",
    "plt.show()"
   ]
  },
  {
   "cell_type": "markdown",
   "metadata": {},
   "source": [
    "### We're only interested in airplanes so we should drop all other rows.\n",
    "### But first we will attempt to save some of the NaNs\n",
    "### We need to check if any of the aircrafts that has NaN in its Aircraft.Category has the values for make and model of any of the known airplanes. If so it should be marked as an airplane."
   ]
  },
  {
   "cell_type": "code",
   "execution_count": 10,
   "metadata": {},
   "outputs": [],
   "source": [
    "# Step 1: Create a list of known airplane models and makes\n",
    "known_airplane_models = list(df[(df['Aircraft.Category']=='Airplane') &\\\n",
    "                                (df['Make'].notna()) &\\\n",
    "                                (df['Model'].notna())]\\\n",
    "                             ['Model'].values)\n",
    "lower_known_airplane_models = [item.lower() for item in known_airplane_models]\n",
    "known_airplane_makes = list(df[(df['Aircraft.Category']=='Airplane') &\\\n",
    "                               (df['Make'].notna()) &\\\n",
    "                               (df['Model'].notna())]\\\n",
    "                            ['Make'].values)\n",
    "lower_known_airplane_makes = [item.lower() for item in known_airplane_makes]\n",
    "known_airplane_makes_models = {}\n",
    "# Step 2: Put them both in a dictionnary\n",
    "known_airplane_makes_models = list(zip(lower_known_airplane_makes, lower_known_airplane_models))"
   ]
  },
  {
   "cell_type": "code",
   "execution_count": 11,
   "metadata": {},
   "outputs": [],
   "source": [
    "# Step 3: Create a list of aircrafts with know Make and Model and Unknown Category\n",
    "df_NaN_aircraft = df[(df['Aircraft.Category'].isna()) &\\\n",
    "                    (df['Make'].notna()) &\\\n",
    "                    (df['Model'].notna())]"
   ]
  },
  {
   "cell_type": "code",
   "execution_count": 12,
   "metadata": {},
   "outputs": [
    {
     "data": {
      "text/html": [
       "<div>\n",
       "<style scoped>\n",
       "    .dataframe tbody tr th:only-of-type {\n",
       "        vertical-align: middle;\n",
       "    }\n",
       "\n",
       "    .dataframe tbody tr th {\n",
       "        vertical-align: top;\n",
       "    }\n",
       "\n",
       "    .dataframe thead th {\n",
       "        text-align: right;\n",
       "    }\n",
       "</style>\n",
       "<table border=\"1\" class=\"dataframe\">\n",
       "  <thead>\n",
       "    <tr style=\"text-align: right;\">\n",
       "      <th></th>\n",
       "      <th>Event.Id</th>\n",
       "      <th>Investigation.Type</th>\n",
       "      <th>Accident.Number</th>\n",
       "      <th>Event.Date</th>\n",
       "      <th>Location</th>\n",
       "      <th>Country</th>\n",
       "      <th>Latitude</th>\n",
       "      <th>Longitude</th>\n",
       "      <th>Airport.Code</th>\n",
       "      <th>Airport.Name</th>\n",
       "      <th>...</th>\n",
       "      <th>Purpose.of.flight</th>\n",
       "      <th>Air.carrier</th>\n",
       "      <th>Total.Fatal.Injuries</th>\n",
       "      <th>Total.Serious.Injuries</th>\n",
       "      <th>Total.Minor.Injuries</th>\n",
       "      <th>Total.Uninjured</th>\n",
       "      <th>Weather.Condition</th>\n",
       "      <th>Broad.phase.of.flight</th>\n",
       "      <th>Report.Status</th>\n",
       "      <th>Publication.Date</th>\n",
       "    </tr>\n",
       "  </thead>\n",
       "  <tbody>\n",
       "    <tr>\n",
       "      <th>9415</th>\n",
       "      <td>20001214X40882</td>\n",
       "      <td>Accident</td>\n",
       "      <td>NYC84LA285</td>\n",
       "      <td>1984-08-17</td>\n",
       "      <td>BRODHEADSVILLE, PA</td>\n",
       "      <td>United States</td>\n",
       "      <td>NaN</td>\n",
       "      <td>NaN</td>\n",
       "      <td>4N9Q</td>\n",
       "      <td>PLEASANT VALLEY</td>\n",
       "      <td>...</td>\n",
       "      <td>Personal</td>\n",
       "      <td>NaN</td>\n",
       "      <td>0.0</td>\n",
       "      <td>0.0</td>\n",
       "      <td>0.0</td>\n",
       "      <td>3.0</td>\n",
       "      <td>VMC</td>\n",
       "      <td>Takeoff</td>\n",
       "      <td>Probable Cause</td>\n",
       "      <td>NaN</td>\n",
       "    </tr>\n",
       "    <tr>\n",
       "      <th>10525</th>\n",
       "      <td>20001214X41728</td>\n",
       "      <td>Incident</td>\n",
       "      <td>BFO85IA056B</td>\n",
       "      <td>1984-12-20</td>\n",
       "      <td>NEW ORLEANS, LA</td>\n",
       "      <td>United States</td>\n",
       "      <td>NaN</td>\n",
       "      <td>NaN</td>\n",
       "      <td>NaN</td>\n",
       "      <td>NaN</td>\n",
       "      <td>...</td>\n",
       "      <td>Unknown</td>\n",
       "      <td>NaN</td>\n",
       "      <td>0.0</td>\n",
       "      <td>0.0</td>\n",
       "      <td>0.0</td>\n",
       "      <td>365.0</td>\n",
       "      <td>VMC</td>\n",
       "      <td>Cruise</td>\n",
       "      <td>Probable Cause</td>\n",
       "      <td>NaN</td>\n",
       "    </tr>\n",
       "    <tr>\n",
       "      <th>14963</th>\n",
       "      <td>20001213X33859</td>\n",
       "      <td>Accident</td>\n",
       "      <td>FTW86FPA22</td>\n",
       "      <td>1986-06-14</td>\n",
       "      <td>CEDAR HILL, TX</td>\n",
       "      <td>United States</td>\n",
       "      <td>NaN</td>\n",
       "      <td>NaN</td>\n",
       "      <td>NaN</td>\n",
       "      <td>NaN</td>\n",
       "      <td>...</td>\n",
       "      <td>Personal</td>\n",
       "      <td>NaN</td>\n",
       "      <td>0.0</td>\n",
       "      <td>1.0</td>\n",
       "      <td>1.0</td>\n",
       "      <td>0.0</td>\n",
       "      <td>VMC</td>\n",
       "      <td>Cruise</td>\n",
       "      <td>Probable Cause</td>\n",
       "      <td>08-06-1989</td>\n",
       "    </tr>\n",
       "    <tr>\n",
       "      <th>35563</th>\n",
       "      <td>20001206X01843</td>\n",
       "      <td>Accident</td>\n",
       "      <td>NYC94LA130B</td>\n",
       "      <td>1994-07-18</td>\n",
       "      <td>MIDDLETOWN, OH</td>\n",
       "      <td>United States</td>\n",
       "      <td>NaN</td>\n",
       "      <td>NaN</td>\n",
       "      <td>MWO</td>\n",
       "      <td>HOOK FIELD MUNICIPAL ARPT</td>\n",
       "      <td>...</td>\n",
       "      <td>Personal</td>\n",
       "      <td>NaN</td>\n",
       "      <td>1.0</td>\n",
       "      <td>0.0</td>\n",
       "      <td>0.0</td>\n",
       "      <td>1.0</td>\n",
       "      <td>VMC</td>\n",
       "      <td>Approach</td>\n",
       "      <td>Probable Cause</td>\n",
       "      <td>16-10-1995</td>\n",
       "    </tr>\n",
       "    <tr>\n",
       "      <th>47931</th>\n",
       "      <td>20030721X01158</td>\n",
       "      <td>Accident</td>\n",
       "      <td>ATL00LA031</td>\n",
       "      <td>2000-03-03</td>\n",
       "      <td>Manatee, FL</td>\n",
       "      <td>United States</td>\n",
       "      <td>27.485277</td>\n",
       "      <td>-82.534166</td>\n",
       "      <td>NaN</td>\n",
       "      <td>Redder Airport</td>\n",
       "      <td>...</td>\n",
       "      <td>Personal</td>\n",
       "      <td>NaN</td>\n",
       "      <td>1.0</td>\n",
       "      <td>NaN</td>\n",
       "      <td>NaN</td>\n",
       "      <td>NaN</td>\n",
       "      <td>VMC</td>\n",
       "      <td>Approach</td>\n",
       "      <td>Probable Cause</td>\n",
       "      <td>30-09-2003</td>\n",
       "    </tr>\n",
       "  </tbody>\n",
       "</table>\n",
       "<p>5 rows × 31 columns</p>\n",
       "</div>"
      ],
      "text/plain": [
       "             Event.Id Investigation.Type Accident.Number  Event.Date  \\\n",
       "9415   20001214X40882           Accident      NYC84LA285  1984-08-17   \n",
       "10525  20001214X41728           Incident     BFO85IA056B  1984-12-20   \n",
       "14963  20001213X33859           Accident      FTW86FPA22  1986-06-14   \n",
       "35563  20001206X01843           Accident     NYC94LA130B  1994-07-18   \n",
       "47931  20030721X01158           Accident      ATL00LA031  2000-03-03   \n",
       "\n",
       "                 Location        Country   Latitude   Longitude Airport.Code  \\\n",
       "9415   BRODHEADSVILLE, PA  United States        NaN         NaN         4N9Q   \n",
       "10525     NEW ORLEANS, LA  United States        NaN         NaN          NaN   \n",
       "14963      CEDAR HILL, TX  United States        NaN         NaN          NaN   \n",
       "35563      MIDDLETOWN, OH  United States        NaN         NaN          MWO   \n",
       "47931         Manatee, FL  United States  27.485277  -82.534166          NaN   \n",
       "\n",
       "                    Airport.Name  ... Purpose.of.flight Air.carrier  \\\n",
       "9415             PLEASANT VALLEY  ...          Personal         NaN   \n",
       "10525                        NaN  ...           Unknown         NaN   \n",
       "14963                        NaN  ...          Personal         NaN   \n",
       "35563  HOOK FIELD MUNICIPAL ARPT  ...          Personal         NaN   \n",
       "47931             Redder Airport  ...          Personal         NaN   \n",
       "\n",
       "      Total.Fatal.Injuries Total.Serious.Injuries Total.Minor.Injuries  \\\n",
       "9415                   0.0                    0.0                  0.0   \n",
       "10525                  0.0                    0.0                  0.0   \n",
       "14963                  0.0                    1.0                  1.0   \n",
       "35563                  1.0                    0.0                  0.0   \n",
       "47931                  1.0                    NaN                  NaN   \n",
       "\n",
       "      Total.Uninjured Weather.Condition  Broad.phase.of.flight  \\\n",
       "9415              3.0               VMC                Takeoff   \n",
       "10525           365.0               VMC                 Cruise   \n",
       "14963             0.0               VMC                 Cruise   \n",
       "35563             1.0               VMC               Approach   \n",
       "47931             NaN               VMC               Approach   \n",
       "\n",
       "        Report.Status Publication.Date  \n",
       "9415   Probable Cause              NaN  \n",
       "10525  Probable Cause              NaN  \n",
       "14963  Probable Cause       08-06-1989  \n",
       "35563  Probable Cause       16-10-1995  \n",
       "47931  Probable Cause       30-09-2003  \n",
       "\n",
       "[5 rows x 31 columns]"
      ]
     },
     "execution_count": 12,
     "metadata": {},
     "output_type": "execute_result"
    }
   ],
   "source": [
    "# Step 4: create the mask and apply it\n",
    "mask = df_NaN_aircraft.apply(lambda row: (row['Model'].lower(), row['Make'].lower()) in known_airplane_makes_models, axis=1)\n",
    "\n",
    "filtered_df = df_NaN_aircraft[mask]\n",
    "filtered_df"
   ]
  },
  {
   "cell_type": "markdown",
   "metadata": {},
   "source": [
    "#### Only 5 values passed the mask and 3 of them have 'unknown' in the make and model fields, so we will drop all NaN"
   ]
  },
  {
   "cell_type": "code",
   "execution_count": 13,
   "metadata": {},
   "outputs": [],
   "source": [
    "df = df[df['Aircraft.Category']=='Airplane']"
   ]
  },
  {
   "cell_type": "markdown",
   "metadata": {},
   "source": [
    "### Check for NaN again"
   ]
  },
  {
   "cell_type": "code",
   "execution_count": 14,
   "metadata": {},
   "outputs": [
    {
     "data": {
      "text/plain": [
       "Event.Id                      0\n",
       "Investigation.Type            0\n",
       "Accident.Number               0\n",
       "Event.Date                    0\n",
       "Location                      7\n",
       "Country                       7\n",
       "Latitude                   5525\n",
       "Longitude                  5534\n",
       "Airport.Code               9844\n",
       "Airport.Name               9361\n",
       "Injury.Severity             814\n",
       "Aircraft.damage            1282\n",
       "Aircraft.Category             0\n",
       "Registration.Number         226\n",
       "Make                          9\n",
       "Model                        31\n",
       "Amateur.Built                17\n",
       "Number.of.Engines          2754\n",
       "Engine.Type                4226\n",
       "FAR.Description             499\n",
       "Schedule                  24627\n",
       "Purpose.of.flight          3739\n",
       "Air.carrier               16350\n",
       "Total.Fatal.Injuries       3165\n",
       "Total.Serious.Injuries     3224\n",
       "Total.Minor.Injuries       2878\n",
       "Total.Uninjured             900\n",
       "Weather.Condition          3053\n",
       "Broad.phase.of.flight     21209\n",
       "Report.Status              4971\n",
       "Publication.Date           2240\n",
       "dtype: int64"
      ]
     },
     "execution_count": 14,
     "metadata": {},
     "output_type": "execute_result"
    }
   ],
   "source": [
    "df.isna().sum()"
   ]
  },
  {
   "cell_type": "markdown",
   "metadata": {},
   "source": [
    "### We'll attempt to complete missing data in the \"engine type\" and \"number of engines\" fields using information from other entries with the same make and model."
   ]
  },
  {
   "cell_type": "code",
   "execution_count": 15,
   "metadata": {},
   "outputs": [],
   "source": [
    "# Step 1: Create a data frame airplanes with known engine type and number of engines\n",
    "known_airplane_engines = df[(df['Engine.Type'].notna()) &\\\n",
    "                            (df['Number.of.Engines'].notna())]\n",
    "\n",
    "# Step 2: Put them both in a dictionnary\n",
    "known_models_engines = list(zip(known_airplane_engines['Make'], known_airplane_engines['Model'], known_airplane_engines['Engine.Type'], known_airplane_engines['Number.of.Engines']))\n",
    "\n",
    "# Step 3: transform to lower case\n",
    "def transform_to_lowercase(input_list):\n",
    "    lowercase_list = []\n",
    "    for tup in input_list:\n",
    "        lowercase_tuple = tuple(item.lower() if isinstance(item, str) else item for item in tup)\n",
    "        lowercase_list.append(lowercase_tuple)\n",
    "    return lowercase_list\n",
    "\n",
    "known_models_engines_lower = transform_to_lowercase(known_models_engines)"
   ]
  },
  {
   "cell_type": "code",
   "execution_count": 16,
   "metadata": {},
   "outputs": [],
   "source": [
    "# Step 4: Create a list of aircrafts with know Make and Model and Unknown number of engines\n",
    "df_NaN_num_engines = df[(df['Number.of.Engines'].isna()) &\\\n",
    "                    (df['Make'].notna()) &\\\n",
    "                    (df['Model'].notna())]\n",
    "# Step 5: Create a list of aircrafts with know Make and Model and Unknown engine type\n",
    "df_NaN_enginetype = df[(df['Engine.Type'].isna()) &\\\n",
    "                    (df['Make'].notna()) &\\\n",
    "                    (df['Model'].notna())]"
   ]
  },
  {
   "cell_type": "code",
   "execution_count": 17,
   "metadata": {},
   "outputs": [
    {
     "data": {
      "text/html": [
       "<div>\n",
       "<style scoped>\n",
       "    .dataframe tbody tr th:only-of-type {\n",
       "        vertical-align: middle;\n",
       "    }\n",
       "\n",
       "    .dataframe tbody tr th {\n",
       "        vertical-align: top;\n",
       "    }\n",
       "\n",
       "    .dataframe thead th {\n",
       "        text-align: right;\n",
       "    }\n",
       "</style>\n",
       "<table border=\"1\" class=\"dataframe\">\n",
       "  <thead>\n",
       "    <tr style=\"text-align: right;\">\n",
       "      <th></th>\n",
       "      <th>Event.Id</th>\n",
       "      <th>Investigation.Type</th>\n",
       "      <th>Accident.Number</th>\n",
       "      <th>Event.Date</th>\n",
       "      <th>Location</th>\n",
       "      <th>Country</th>\n",
       "      <th>Latitude</th>\n",
       "      <th>Longitude</th>\n",
       "      <th>Airport.Code</th>\n",
       "      <th>Airport.Name</th>\n",
       "      <th>...</th>\n",
       "      <th>Purpose.of.flight</th>\n",
       "      <th>Air.carrier</th>\n",
       "      <th>Total.Fatal.Injuries</th>\n",
       "      <th>Total.Serious.Injuries</th>\n",
       "      <th>Total.Minor.Injuries</th>\n",
       "      <th>Total.Uninjured</th>\n",
       "      <th>Weather.Condition</th>\n",
       "      <th>Broad.phase.of.flight</th>\n",
       "      <th>Report.Status</th>\n",
       "      <th>Publication.Date</th>\n",
       "    </tr>\n",
       "  </thead>\n",
       "  <tbody>\n",
       "  </tbody>\n",
       "</table>\n",
       "<p>0 rows × 31 columns</p>\n",
       "</div>"
      ],
      "text/plain": [
       "Empty DataFrame\n",
       "Columns: [Event.Id, Investigation.Type, Accident.Number, Event.Date, Location, Country, Latitude, Longitude, Airport.Code, Airport.Name, Injury.Severity, Aircraft.damage, Aircraft.Category, Registration.Number, Make, Model, Amateur.Built, Number.of.Engines, Engine.Type, FAR.Description, Schedule, Purpose.of.flight, Air.carrier, Total.Fatal.Injuries, Total.Serious.Injuries, Total.Minor.Injuries, Total.Uninjured, Weather.Condition, Broad.phase.of.flight, Report.Status, Publication.Date]\n",
       "Index: []\n",
       "\n",
       "[0 rows x 31 columns]"
      ]
     },
     "execution_count": 17,
     "metadata": {},
     "output_type": "execute_result"
    }
   ],
   "source": [
    "# Step 6: create the mask and apply it for each\n",
    "mask1 = df_NaN_num_engines.apply(lambda row: (row['Model'].lower(), row['Make'].lower()) in known_models_engines_lower, axis=1)\n",
    "\n",
    "filtered_df1 = df_NaN_num_engines[mask1]\n",
    "\n",
    "\n",
    "mask2 = df_NaN_enginetype.apply(lambda row: (row['Model'].lower(), row['Make'].lower()) in known_models_engines_lower, axis=1)\n",
    "\n",
    "filtered_df2 = df_NaN_enginetype[mask2]\n",
    "filtered_df2"
   ]
  },
  {
   "cell_type": "markdown",
   "metadata": {},
   "source": [
    "#### Again we failed to rescue any of the data"
   ]
  },
  {
   "cell_type": "markdown",
   "metadata": {},
   "source": [
    "### Below we created  a function that turns a column into lower case"
   ]
  },
  {
   "cell_type": "code",
   "execution_count": 18,
   "metadata": {},
   "outputs": [],
   "source": [
    "def column_to_lowercase(data_frame, column_name):\n",
    "    if column_name in data_frame.columns:\n",
    "        data_frame[column_name] = data_frame[column_name].apply(lambda x: x.lower() if isinstance(x, str) else x)\n",
    "    else:\n",
    "        print(f\"Column '{column_name}' not found in the DataFrame.\")"
   ]
  },
  {
   "cell_type": "markdown",
   "metadata": {},
   "source": [
    "### We will look into known airport information, hoping to discover interesting patterns."
   ]
  },
  {
   "cell_type": "code",
   "execution_count": 19,
   "metadata": {},
   "outputs": [
    {
     "data": {
      "text/plain": [
       "private                        195\n",
       "private airstrip               137\n",
       "private strip                   51\n",
       "none                            50\n",
       "merrill field                   34\n",
       "pvt                             32\n",
       "reno/stead                      30\n",
       "phoenix deer valley             27\n",
       "north las vegas                 25\n",
       "north perry                     24\n",
       "centennial                      24\n",
       "sedona                          23\n",
       "fort lauderdale executive       20\n",
       "lake hood                       18\n",
       "david wayne hooks memorial      18\n",
       "camarillo                       18\n",
       "gillespie field                 18\n",
       "ryan field                      18\n",
       "dekalb-peachtree                17\n",
       "van nuys                        17\n",
       "san carlos                      17\n",
       "talkeetna                       17\n",
       "meadow lake                     17\n",
       "rocky mountain metropolitan     17\n",
       "chino                           17\n",
       "albert whitted                  16\n",
       "monroe county                   16\n",
       "phoenix deer valley airport     15\n",
       "falcon field airport            15\n",
       "birchwood                       15\n",
       "falcon field                    15\n",
       "dekalb-peachtree airport        14\n",
       "miami executive                 14\n",
       "centennial airport              14\n",
       "chandler municipal airport      13\n",
       "chandler municipal              13\n",
       "wittman rgnl                    13\n",
       "bowman field                    13\n",
       "vance brand                     13\n",
       "bethel                          13\n",
       "Name: Airport.Name, dtype: int64"
      ]
     },
     "execution_count": 19,
     "metadata": {},
     "output_type": "execute_result"
    }
   ],
   "source": [
    "column_to_lowercase(df, 'Airport.Name')\n",
    "df[df['Airport.Name'].notna()]['Airport.Name'].value_counts().head(40)"
   ]
  },
  {
   "cell_type": "markdown",
   "metadata": {},
   "source": [
    "#### we need to merge all airports that contain the word \"private\""
   ]
  },
  {
   "cell_type": "markdown",
   "metadata": {},
   "source": [
    "### Here is a function that will update records that contain a specific keyword"
   ]
  },
  {
   "cell_type": "code",
   "execution_count": 20,
   "metadata": {},
   "outputs": [],
   "source": [
    "def update_column_by_keyword(data_frame, column, keyword, new_value):\n",
    "    data_frame.loc[data_frame[column].str.contains(keyword), column] = new_value"
   ]
  },
  {
   "cell_type": "code",
   "execution_count": 21,
   "metadata": {},
   "outputs": [
    {
     "name": "stderr",
     "output_type": "stream",
     "text": [
      "C:\\DS_Softwares\\Anaconda3\\envs\\learn-env\\lib\\site-packages\\pandas\\core\\indexing.py:1765: SettingWithCopyWarning: \n",
      "A value is trying to be set on a copy of a slice from a DataFrame.\n",
      "Try using .loc[row_indexer,col_indexer] = value instead\n",
      "\n",
      "See the caveats in the documentation: https://pandas.pydata.org/pandas-docs/stable/user_guide/indexing.html#returning-a-view-versus-a-copy\n",
      "  isetter(loc, value)\n"
     ]
    }
   ],
   "source": [
    "# Create a data frame that includes all records with known airport name\n",
    "airport_df = df.loc[df['Airport.Name'].notna()]\n",
    "\n",
    "# use the function we created to combine all records that contain private into one\n",
    "update_column_by_keyword(airport_df, 'Airport.Name', 'private', 'private airstrip')\n",
    "update_column_by_keyword(airport_df, 'Airport.Name', 'pvt', 'private airstrip')\n",
    "\n",
    "# Remove the none values from the data frame\n",
    "airport_df = airport_df[airport_df['Airport.Name']!='none']"
   ]
  },
  {
   "cell_type": "code",
   "execution_count": 22,
   "metadata": {},
   "outputs": [
    {
     "data": {
      "text/plain": [
       "private airstrip               548\n",
       "merrill field                   34\n",
       "reno/stead                      30\n",
       "phoenix deer valley             27\n",
       "north las vegas                 25\n",
       "                              ... \n",
       "bale-mulhouse airport            1\n",
       "lowensteins airstrip             1\n",
       "congonhas/são paulo airport      1\n",
       "danbury municipal                1\n",
       "trier fohren                     1\n",
       "Name: Airport.Name, Length: 10041, dtype: int64"
      ]
     },
     "execution_count": 22,
     "metadata": {},
     "output_type": "execute_result"
    }
   ],
   "source": [
    "\n",
    "airport_df['Airport.Name'].value_counts()"
   ]
  },
  {
   "cell_type": "markdown",
   "metadata": {},
   "source": [
    "### Plot the top 20 number of accidents per airport"
   ]
  },
  {
   "cell_type": "code",
   "execution_count": 23,
   "metadata": {},
   "outputs": [
    {
     "data": {
      "image/png": "[encoded data removed]",
      "text/plain": [
       "<Figure size 432x288 with 1 Axes>"
      ]
     },
     "metadata": {
      "needs_background": "light"
     },
     "output_type": "display_data"
    }
   ],
   "source": [
    "# pick the top 20 airports and sort them descendingly\n",
    "airport_top_20 = airport_df.value_counts(subset='Airport.Name')\n",
    "airport_top_20.sort_values(ascending=False, inplace=True)\n",
    "airport_top_20 = airport_top_20.head(20)\n",
    "\n",
    "# Calculate the variables for the plot\n",
    "height = list(airport_top_20.values)\n",
    "bars = list(airport_top_20.index)\n",
    "y_pos = np.arange(len(bars))\n",
    " \n",
    "# Create horizontal bars\n",
    "plt.barh(y_pos, height)\n",
    " \n",
    "# Create names on the x-axis\n",
    "plt.yticks(y_pos, bars)\n",
    " \n",
    "# Show graphic\n",
    "plt.show()"
   ]
  },
  {
   "cell_type": "markdown",
   "metadata": {},
   "source": [
    "#### Looks like a lot of accidents happened on private strips"
   ]
  },
  {
   "cell_type": "markdown",
   "metadata": {},
   "source": [
    "### Lets check the number of incidents recorded per country"
   ]
  },
  {
   "cell_type": "code",
   "execution_count": 24,
   "metadata": {},
   "outputs": [],
   "source": [
    "accident_per_country_top_20 = df.value_counts(subset='Country').head(20)"
   ]
  },
  {
   "cell_type": "code",
   "execution_count": 25,
   "metadata": {},
   "outputs": [
    {
     "data": {
      "image/png": "[encoded data removed]",
      "text/plain": [
       "<Figure size 432x288 with 1 Axes>"
      ]
     },
     "metadata": {
      "needs_background": "light"
     },
     "output_type": "display_data"
    }
   ],
   "source": [
    "height = list(accident_per_country_top_20.values)\n",
    "bars = list(accident_per_country_top_20.index)\n",
    "y_pos = np.arange(len(bars))\n",
    " \n",
    "# Create horizontal bars\n",
    "plt.barh(y_pos, height)\n",
    " \n",
    "# Create names on the x-axis\n",
    "plt.yticks(y_pos, bars)\n",
    " \n",
    "# Show graphic\n",
    "plt.show()"
   ]
  },
  {
   "cell_type": "markdown",
   "metadata": {},
   "source": [
    "### let's check the number of incidents per year"
   ]
  },
  {
   "cell_type": "code",
   "execution_count": 26,
   "metadata": {
    "scrolled": true
   },
   "outputs": [],
   "source": [
    "# transform the Event.Date column into datetime format\n",
    "df['Event.Date'] = pd.to_datetime(df['Event.Date'])\n",
    "\n",
    "# add a column that will have the year of the incident\n",
    "df['Year'] = df['Event.Date'].dt.year"
   ]
  },
  {
   "cell_type": "code",
   "execution_count": 27,
   "metadata": {
    "scrolled": true
   },
   "outputs": [
    {
     "data": {
      "text/plain": [
       "[<matplotlib.lines.Line2D at 0x291e5536580>]"
      ]
     },
     "execution_count": 27,
     "metadata": {},
     "output_type": "execute_result"
    },
    {
     "data": {
      "image/png": "[encoded data removed]",
      "text/plain": [
       "<Figure size 432x288 with 1 Axes>"
      ]
     },
     "metadata": {
      "needs_background": "light"
     },
     "output_type": "display_data"
    }
   ],
   "source": [
    "# Plot the results\n",
    "incidents_per_year = df['Year'].value_counts().sort_index()\n",
    "x = incidents_per_year.index\n",
    "y = incidents_per_year.values\n",
    "plt.plot(x,y)"
   ]
  },
  {
   "cell_type": "markdown",
   "metadata": {},
   "source": [
    "#### There is a spike in 1982. We looked online for an explanation for this spike but we couldn't find anything so we will leave these records"
   ]
  },
  {
   "cell_type": "markdown",
   "metadata": {},
   "source": [
    "### Check the distribution of accidents over the 12 months"
   ]
  },
  {
   "cell_type": "code",
   "execution_count": 28,
   "metadata": {
    "scrolled": true
   },
   "outputs": [
    {
     "data": {
      "text/plain": [
       "[<matplotlib.lines.Line2D at 0x291e5592190>]"
      ]
     },
     "execution_count": 28,
     "metadata": {},
     "output_type": "execute_result"
    },
    {
     "data": {
      "image/png": "[encoded data removed]",
      "text/plain": [
       "<Figure size 432x288 with 1 Axes>"
      ]
     },
     "metadata": {
      "needs_background": "light"
     },
     "output_type": "display_data"
    }
   ],
   "source": [
    "# add a column that will have the year of the incident\n",
    "df['Month'] = df['Event.Date'].dt.month\n",
    "\n",
    "# Plot\n",
    "incidents_per_month = df['Month'].value_counts().sort_index()\n",
    "x = incidents_per_month.index\n",
    "y = incidents_per_month.values\n",
    "plt.plot(x,y)"
   ]
  },
  {
   "cell_type": "markdown",
   "metadata": {},
   "source": [
    "#### Most of the accidents happenned in July which makes sence since it is the peak of the high season and it has the highest number of flights"
   ]
  },
  {
   "cell_type": "markdown",
   "metadata": {},
   "source": [
    "### Lets go back to cleaning the data"
   ]
  },
  {
   "cell_type": "code",
   "execution_count": 29,
   "metadata": {},
   "outputs": [
    {
     "data": {
      "text/plain": [
       "Event.Id                      0\n",
       "Investigation.Type            0\n",
       "Accident.Number               0\n",
       "Event.Date                    0\n",
       "Location                      7\n",
       "Country                       7\n",
       "Latitude                   5525\n",
       "Longitude                  5534\n",
       "Airport.Code               9844\n",
       "Airport.Name               9361\n",
       "Injury.Severity             814\n",
       "Aircraft.damage            1282\n",
       "Aircraft.Category             0\n",
       "Registration.Number         226\n",
       "Make                          9\n",
       "Model                        31\n",
       "Amateur.Built                17\n",
       "Number.of.Engines          2754\n",
       "Engine.Type                4226\n",
       "FAR.Description             499\n",
       "Schedule                  24627\n",
       "Purpose.of.flight          3739\n",
       "Air.carrier               16350\n",
       "Total.Fatal.Injuries       3165\n",
       "Total.Serious.Injuries     3224\n",
       "Total.Minor.Injuries       2878\n",
       "Total.Uninjured             900\n",
       "Weather.Condition          3053\n",
       "Broad.phase.of.flight     21209\n",
       "Report.Status              4971\n",
       "Publication.Date           2240\n",
       "Year                          0\n",
       "Month                         0\n",
       "dtype: int64"
      ]
     },
     "execution_count": 29,
     "metadata": {},
     "output_type": "execute_result"
    }
   ],
   "source": [
    "df.isna().sum()"
   ]
  },
  {
   "cell_type": "code",
   "execution_count": 30,
   "metadata": {},
   "outputs": [],
   "source": [
    "df.drop(labels=['Injury.Severity', 'Latitude', 'FAR.Description', 'Longitude', 'Registration.Number', 'Publication.Date', 'Location', 'Airport.Code', 'Airport.Name', 'Schedule', 'Purpose.of.flight', 'Air.carrier', 'Broad.phase.of.flight'], axis=1, inplace=True)"
   ]
  },
  {
   "cell_type": "code",
   "execution_count": 31,
   "metadata": {},
   "outputs": [
    {
     "data": {
      "text/plain": [
       "Event.Id                     0\n",
       "Investigation.Type           0\n",
       "Accident.Number              0\n",
       "Event.Date                   0\n",
       "Country                      7\n",
       "Aircraft.damage           1282\n",
       "Aircraft.Category            0\n",
       "Make                         9\n",
       "Model                       31\n",
       "Amateur.Built               17\n",
       "Number.of.Engines         2754\n",
       "Engine.Type               4226\n",
       "Total.Fatal.Injuries      3165\n",
       "Total.Serious.Injuries    3224\n",
       "Total.Minor.Injuries      2878\n",
       "Total.Uninjured            900\n",
       "Weather.Condition         3053\n",
       "Report.Status             4971\n",
       "Year                         0\n",
       "Month                        0\n",
       "dtype: int64"
      ]
     },
     "execution_count": 31,
     "metadata": {},
     "output_type": "execute_result"
    }
   ],
   "source": [
    "df.isna().sum()"
   ]
  },
  {
   "cell_type": "markdown",
   "metadata": {},
   "source": [
    "### Here we will check if one of the three columns Total.Fatal.Injuries or Total.Minor.Injuries or Total.Serious.Injuries has a value, and the others are NaNs, we should replace the NaNs with 0"
   ]
  },
  {
   "cell_type": "code",
   "execution_count": 32,
   "metadata": {},
   "outputs": [
    {
     "data": {
      "text/plain": [
       "Event.Id                     0\n",
       "Investigation.Type           0\n",
       "Accident.Number              0\n",
       "Event.Date                   0\n",
       "Country                      7\n",
       "Aircraft.damage           1282\n",
       "Aircraft.Category            0\n",
       "Make                         9\n",
       "Model                       31\n",
       "Amateur.Built               17\n",
       "Number.of.Engines         2754\n",
       "Engine.Type               4226\n",
       "Total.Fatal.Injuries      2438\n",
       "Total.Serious.Injuries    2438\n",
       "Total.Minor.Injuries      2438\n",
       "Total.Uninjured            900\n",
       "Weather.Condition         3053\n",
       "Report.Status             4971\n",
       "Year                         0\n",
       "Month                        0\n",
       "dtype: int64"
      ]
     },
     "execution_count": 32,
     "metadata": {},
     "output_type": "execute_result"
    }
   ],
   "source": [
    "df.loc[df['Total.Fatal.Injuries'].isna() &\\\n",
    "       (df['Total.Serious.Injuries'].notna() |\\\n",
    "        df['Total.Minor.Injuries'].notna()), 'Total.Fatal.Injuries'] = 0\n",
    "df.loc[df['Total.Serious.Injuries'].isna() &\\\n",
    "       (df['Total.Fatal.Injuries'].notna() |\\\n",
    "        df['Total.Minor.Injuries'].notna()), 'Total.Serious.Injuries'] = 0\n",
    "df.loc[df['Total.Minor.Injuries'].isna() &\\\n",
    "       (df['Total.Fatal.Injuries'].notna() |\\\n",
    "        df['Total.Serious.Injuries'].notna()), 'Total.Minor.Injuries'] = 0\n",
    "df.isna().sum()"
   ]
  },
  {
   "cell_type": "markdown",
   "metadata": {},
   "source": [
    "### Drop all rows that have 4 NaNs in the 4 fields"
   ]
  },
  {
   "cell_type": "code",
   "execution_count": 33,
   "metadata": {},
   "outputs": [],
   "source": [
    "indeces_to_drop = df[(df['Total.Fatal.Injuries'].isna())&\\\n",
    "                  (df['Total.Serious.Injuries'].isna())&\\\n",
    "                  (df['Total.Minor.Injuries'].isna())&\\\n",
    "                  (df['Total.Uninjured'].isna())].index\n",
    "df.drop(index=indeces_to_drop, inplace=True)"
   ]
  },
  {
   "cell_type": "markdown",
   "metadata": {},
   "source": [
    "### Now we replace the remaining NaNs in the with zeros"
   ]
  },
  {
   "cell_type": "code",
   "execution_count": 34,
   "metadata": {},
   "outputs": [],
   "source": [
    "def replace_nan_with_value(df, column_name, value):\n",
    "    df[column_name].fillna(value, inplace=True)\n",
    "    \n",
    "replace_nan_with_value(df, 'Total.Fatal.Injuries', 0)\n",
    "replace_nan_with_value(df, 'Total.Serious.Injuries', 0)\n",
    "replace_nan_with_value(df, 'Total.Minor.Injuries', 0)\n",
    "replace_nan_with_value(df, 'Total.Uninjured', 0)"
   ]
  },
  {
   "cell_type": "code",
   "execution_count": 35,
   "metadata": {},
   "outputs": [
    {
     "data": {
      "text/plain": [
       "Event.Id                     0\n",
       "Investigation.Type           0\n",
       "Accident.Number              0\n",
       "Event.Date                   0\n",
       "Country                      7\n",
       "Aircraft.damage           1263\n",
       "Aircraft.Category            0\n",
       "Make                         8\n",
       "Model                       31\n",
       "Amateur.Built               10\n",
       "Number.of.Engines         2704\n",
       "Engine.Type               4217\n",
       "Total.Fatal.Injuries         0\n",
       "Total.Serious.Injuries       0\n",
       "Total.Minor.Injuries         0\n",
       "Total.Uninjured              0\n",
       "Weather.Condition         3033\n",
       "Report.Status             4971\n",
       "Year                         0\n",
       "Month                        0\n",
       "dtype: int64"
      ]
     },
     "execution_count": 35,
     "metadata": {},
     "output_type": "execute_result"
    }
   ],
   "source": [
    "df.isna().sum()"
   ]
  },
  {
   "cell_type": "markdown",
   "metadata": {},
   "source": [
    "### Replace some of the NaNs with Unknown"
   ]
  },
  {
   "cell_type": "code",
   "execution_count": 36,
   "metadata": {},
   "outputs": [],
   "source": [
    "columns_to_fill = ['Country', 'Aircraft.damage', 'Engine.Type', 'Report.Status','Weather.Condition', 'Amateur.Built']\n",
    "df.loc[:, columns_to_fill] = df[columns_to_fill].fillna('unknown')"
   ]
  },
  {
   "cell_type": "code",
   "execution_count": 37,
   "metadata": {},
   "outputs": [
    {
     "data": {
      "text/plain": [
       "Event.Id                     0\n",
       "Investigation.Type           0\n",
       "Accident.Number              0\n",
       "Event.Date                   0\n",
       "Country                      0\n",
       "Aircraft.damage              0\n",
       "Aircraft.Category            0\n",
       "Make                         8\n",
       "Model                       31\n",
       "Amateur.Built                0\n",
       "Number.of.Engines         2704\n",
       "Engine.Type                  0\n",
       "Total.Fatal.Injuries         0\n",
       "Total.Serious.Injuries       0\n",
       "Total.Minor.Injuries         0\n",
       "Total.Uninjured              0\n",
       "Weather.Condition            0\n",
       "Report.Status                0\n",
       "Year                         0\n",
       "Month                        0\n",
       "dtype: int64"
      ]
     },
     "execution_count": 37,
     "metadata": {},
     "output_type": "execute_result"
    }
   ],
   "source": [
    "df.isna().sum()"
   ]
  },
  {
   "cell_type": "markdown",
   "metadata": {},
   "source": [
    "### Drop the remaining NaNs in the Make and Model columns"
   ]
  },
  {
   "cell_type": "code",
   "execution_count": 38,
   "metadata": {},
   "outputs": [],
   "source": [
    "df.dropna(subset=['Make', 'Model'], inplace=True)"
   ]
  },
  {
   "cell_type": "markdown",
   "metadata": {},
   "source": [
    "### Replane NaNs in the number of engine field with 0"
   ]
  },
  {
   "cell_type": "code",
   "execution_count": 39,
   "metadata": {},
   "outputs": [],
   "source": [
    "df['Number.of.Engines'].fillna(0, inplace=True)"
   ]
  },
  {
   "cell_type": "code",
   "execution_count": 40,
   "metadata": {},
   "outputs": [
    {
     "data": {
      "text/plain": [
       "Event.Id                  0\n",
       "Investigation.Type        0\n",
       "Accident.Number           0\n",
       "Event.Date                0\n",
       "Country                   0\n",
       "Aircraft.damage           0\n",
       "Aircraft.Category         0\n",
       "Make                      0\n",
       "Model                     0\n",
       "Amateur.Built             0\n",
       "Number.of.Engines         0\n",
       "Engine.Type               0\n",
       "Total.Fatal.Injuries      0\n",
       "Total.Serious.Injuries    0\n",
       "Total.Minor.Injuries      0\n",
       "Total.Uninjured           0\n",
       "Weather.Condition         0\n",
       "Report.Status             0\n",
       "Year                      0\n",
       "Month                     0\n",
       "dtype: int64"
      ]
     },
     "execution_count": 40,
     "metadata": {},
     "output_type": "execute_result"
    }
   ],
   "source": [
    "df.isna().sum()"
   ]
  },
  {
   "cell_type": "markdown",
   "metadata": {},
   "source": [
    "### Create a new column that is equal to the total number of passengers"
   ]
  },
  {
   "cell_type": "code",
   "execution_count": 41,
   "metadata": {},
   "outputs": [],
   "source": [
    "df['Number of passengers'] = df['Total.Fatal.Injuries'] +\\\n",
    "                             df['Total.Serious.Injuries'] +\\\n",
    "                             df['Total.Minor.Injuries'] +\\\n",
    "                             df['Total.Uninjured']"
   ]
  },
  {
   "cell_type": "markdown",
   "metadata": {},
   "source": [
    "### Create Fatality rate column that is equal to the ratio of the Total.Fatal.Injuries over the Number of passengers"
   ]
  },
  {
   "cell_type": "code",
   "execution_count": 42,
   "metadata": {},
   "outputs": [],
   "source": [
    "df['Fatality rate'] = df['Total.Fatal.Injuries'] / df['Number of passengers']"
   ]
  },
  {
   "cell_type": "markdown",
   "metadata": {},
   "source": [
    "### Create Uninjured rate column that is equal to the ratio of the Total.Uninjured over the Number of passengers"
   ]
  },
  {
   "cell_type": "code",
   "execution_count": 43,
   "metadata": {},
   "outputs": [],
   "source": [
    "df['Uninjured rate'] = df['Total.Uninjured'] / df['Number of passengers']"
   ]
  },
  {
   "cell_type": "markdown",
   "metadata": {},
   "source": [
    "### Create a function to turn columns to lowercase"
   ]
  },
  {
   "cell_type": "code",
   "execution_count": 44,
   "metadata": {},
   "outputs": [],
   "source": [
    "def column_to_lowercase(data_frame, column_name):\n",
    "    if column_name in data_frame.columns:\n",
    "        data_frame[column_name] = data_frame[column_name].apply(lambda x: x.lower() if isinstance(x, str) else x)\n",
    "    else:\n",
    "        print(f\"Column '{column_name}' not found in the DataFrame.\")"
   ]
  },
  {
   "cell_type": "code",
   "execution_count": 45,
   "metadata": {},
   "outputs": [],
   "source": [
    "column_to_lowercase(df, 'Country')\n",
    "column_to_lowercase(df, 'Make')\n",
    "column_to_lowercase(df, 'Model')\n",
    "column_to_lowercase(df, 'Engine.Type')\n",
    "column_to_lowercase(df, 'Weather.Condition')\n",
    "column_to_lowercase(df, 'Aircraft.damage')"
   ]
  },
  {
   "cell_type": "code",
   "execution_count": 46,
   "metadata": {},
   "outputs": [
    {
     "data": {
      "text/plain": [
       "cessna                      8467\n",
       "piper                       4714\n",
       "beech                       1687\n",
       "boeing                      1291\n",
       "mooney                       419\n",
       "bellanca                     282\n",
       "grumman                      251\n",
       "airbus                       243\n",
       "maule                        232\n",
       "aeronca                      229\n",
       "air tractor                  224\n",
       "cirrus design corp           220\n",
       "air tractor inc              219\n",
       "champion                     170\n",
       "luscombe                     164\n",
       "embraer                      154\n",
       "stinson                      146\n",
       "cirrus                       137\n",
       "vans                         125\n",
       "north american               118\n",
       "taylorcraft                  110\n",
       "mcdonnell douglas            107\n",
       "aero commander               107\n",
       "dehavilland                   95\n",
       "de havilland                  86\n",
       "aviat aircraft inc            76\n",
       "socata                        75\n",
       "diamond aircraft ind inc      74\n",
       "aviat                         70\n",
       "ercoupe                       66\n",
       "Name: Make, dtype: int64"
      ]
     },
     "execution_count": 46,
     "metadata": {},
     "output_type": "execute_result"
    }
   ],
   "source": [
    "df['Make'].value_counts().head(30)"
   ]
  },
  {
   "cell_type": "markdown",
   "metadata": {},
   "source": [
    "### Some of the make values need to be merged, we'll make a function to fix it"
   ]
  },
  {
   "cell_type": "code",
   "execution_count": 47,
   "metadata": {},
   "outputs": [],
   "source": [
    "def update_column_by_keyword(data_frame, column, keyword, new_value):\n",
    "    data_frame.loc[data_frame[column].str.contains(keyword), column] = new_value"
   ]
  },
  {
   "cell_type": "code",
   "execution_count": 48,
   "metadata": {},
   "outputs": [],
   "source": [
    "update_column_by_keyword(df, 'Make', 'cessna', 'cessna')\n",
    "update_column_by_keyword(df, 'Make', 'piper', 'piper')\n",
    "update_column_by_keyword(df, 'Make', 'beech', 'beech')\n",
    "update_column_by_keyword(df, 'Make', 'boeing', 'boeing')\n",
    "update_column_by_keyword(df, 'Make', 'mooney', 'mooney')\n",
    "update_column_by_keyword(df, 'Make', 'bellanca', 'bellanca')\n",
    "update_column_by_keyword(df, 'Make', 'grumman', 'grumman')\n",
    "update_column_by_keyword(df, 'Make', 'airbus', 'airbus')\n",
    "update_column_by_keyword(df, 'Make', 'maule', 'maule')\n",
    "update_column_by_keyword(df, 'Make', 'aeronca', 'aeronca')\n",
    "update_column_by_keyword(df, 'Make', 'air tractor', 'air tractor')\n",
    "update_column_by_keyword(df, 'Make', 'cirrus', 'cirrus')\n",
    "update_column_by_keyword(df, 'Make', 'champion', 'champion')\n",
    "update_column_by_keyword(df, 'Make', 'luscombe', 'luscombe')\n",
    "update_column_by_keyword(df, 'Make', 'embraer', 'embraer')\n",
    "update_column_by_keyword(df, 'Make', 'stinson', 'stinson')\n",
    "update_column_by_keyword(df, 'Make', 'taylorcraft', 'taylorcraft')\n",
    "update_column_by_keyword(df, 'Make', 'havilland', 'dehavilland')\n",
    "update_column_by_keyword(df, 'Make', 'rockwell', 'rockwell')\n",
    "update_column_by_keyword(df, 'Make', 'aviat', 'aviat')\n",
    "update_column_by_keyword(df, 'Make', 'raytheon', 'raytheon')\n",
    "update_column_by_keyword(df, 'Make', 'rockwell', 'rockwell')\n",
    "update_column_by_keyword(df, 'Make', 'costruzioni', 'costruzioni')\n",
    "update_column_by_keyword(df, 'Make', 'diamond', 'diamond')\n",
    "update_column_by_keyword(df, 'Make', 'evektor', 'evektor')\n",
    "update_column_by_keyword(df, 'Make', 'diamond', 'diamond')"
   ]
  },
  {
   "cell_type": "code",
   "execution_count": 49,
   "metadata": {},
   "outputs": [
    {
     "data": {
      "text/plain": [
       "cessna               8525\n",
       "piper                4784\n",
       "beech                1763\n",
       "boeing               1320\n",
       "mooney                467\n",
       "air tractor           450\n",
       "grumman               428\n",
       "cirrus                401\n",
       "airbus                284\n",
       "bellanca              282\n",
       "aviat                 267\n",
       "champion              245\n",
       "maule                 233\n",
       "aeronca               232\n",
       "dehavilland           182\n",
       "embraer               174\n",
       "luscombe              165\n",
       "stinson               153\n",
       "diamond               150\n",
       "rockwell              128\n",
       "vans                  125\n",
       "taylorcraft           121\n",
       "north american        118\n",
       "mcdonnell douglas     107\n",
       "aero commander        107\n",
       "raytheon               88\n",
       "socata                 75\n",
       "ercoupe                66\n",
       "bombardier inc         65\n",
       "ayres                  56\n",
       "Name: Make, dtype: int64"
      ]
     },
     "execution_count": 49,
     "metadata": {},
     "output_type": "execute_result"
    }
   ],
   "source": [
    "df['Make'].value_counts().head(30)"
   ]
  },
  {
   "cell_type": "markdown",
   "metadata": {},
   "source": [
    "### Remove any symbol or space from the Model column"
   ]
  },
  {
   "cell_type": "code",
   "execution_count": 50,
   "metadata": {},
   "outputs": [],
   "source": [
    "import re\n",
    "df['Model'] = df['Model'].apply(lambda x: re.sub(r'\\W+', '', x))"
   ]
  },
  {
   "cell_type": "markdown",
   "metadata": {},
   "source": [
    "# Some Plots:"
   ]
  },
  {
   "cell_type": "markdown",
   "metadata": {},
   "source": [
    "### Comparing fatal injuries between accidents and incidents"
   ]
  },
  {
   "cell_type": "code",
   "execution_count": 51,
   "metadata": {},
   "outputs": [
    {
     "data": {
      "text/plain": [
       "<seaborn.axisgrid.FacetGrid at 0x291e55d5a30>"
      ]
     },
     "execution_count": 51,
     "metadata": {},
     "output_type": "execute_result"
    },
    {
     "data": {
      "image/png": "[encoded data removed]",
      "text/plain": [
       "<Figure size 360x360 with 1 Axes>"
      ]
     },
     "metadata": {
      "needs_background": "light"
     },
     "output_type": "display_data"
    }
   ],
   "source": [
    "import seaborn\n",
    "seaborn.catplot(x='Investigation.Type',y='Total.Fatal.Injuries',data=df)"
   ]
  },
  {
   "cell_type": "markdown",
   "metadata": {},
   "source": [
    "### Comparing the total number of injuries along different categories of Aircraft damage"
   ]
  },
  {
   "cell_type": "code",
   "execution_count": 52,
   "metadata": {},
   "outputs": [
    {
     "data": {
      "text/plain": [
       "<seaborn.axisgrid.FacetGrid at 0x291e8424820>"
      ]
     },
     "execution_count": 52,
     "metadata": {},
     "output_type": "execute_result"
    },
    {
     "data": {
      "image/png": "[encoded data removed]",
      "text/plain": [
       "<Figure size 360x360 with 1 Axes>"
      ]
     },
     "metadata": {
      "needs_background": "light"
     },
     "output_type": "display_data"
    }
   ],
   "source": [
    "seaborn.catplot(x='Aircraft.damage',y='Total.Fatal.Injuries',data=df)"
   ]
  },
  {
   "cell_type": "markdown",
   "metadata": {},
   "source": [
    "## Visualization of Ratios for each Make"
   ]
  },
  {
   "cell_type": "code",
   "execution_count": 53,
   "metadata": {},
   "outputs": [
    {
     "data": {
      "text/html": [
       "<div>\n",
       "<style scoped>\n",
       "    .dataframe tbody tr th:only-of-type {\n",
       "        vertical-align: middle;\n",
       "    }\n",
       "\n",
       "    .dataframe tbody tr th {\n",
       "        vertical-align: top;\n",
       "    }\n",
       "\n",
       "    .dataframe thead th {\n",
       "        text-align: right;\n",
       "    }\n",
       "</style>\n",
       "<table border=\"1\" class=\"dataframe\">\n",
       "  <thead>\n",
       "    <tr style=\"text-align: right;\">\n",
       "      <th></th>\n",
       "      <th>Number.of.Engines</th>\n",
       "      <th>Total.Fatal.Injuries</th>\n",
       "      <th>Total.Serious.Injuries</th>\n",
       "      <th>Total.Minor.Injuries</th>\n",
       "      <th>Total.Uninjured</th>\n",
       "      <th>Year</th>\n",
       "      <th>Month</th>\n",
       "      <th>Number of passengers</th>\n",
       "      <th>Fatality rate</th>\n",
       "      <th>Uninjured rate</th>\n",
       "      <th>cessna_uninj</th>\n",
       "    </tr>\n",
       "    <tr>\n",
       "      <th>Model</th>\n",
       "      <th></th>\n",
       "      <th></th>\n",
       "      <th></th>\n",
       "      <th></th>\n",
       "      <th></th>\n",
       "      <th></th>\n",
       "      <th></th>\n",
       "      <th></th>\n",
       "      <th></th>\n",
       "      <th></th>\n",
       "      <th></th>\n",
       "    </tr>\n",
       "  </thead>\n",
       "  <tbody>\n",
       "    <tr>\n",
       "      <th>172</th>\n",
       "      <td>795.0</td>\n",
       "      <td>239.0</td>\n",
       "      <td>185.0</td>\n",
       "      <td>133.0</td>\n",
       "      <td>995.0</td>\n",
       "      <td>1746612</td>\n",
       "      <td>5698</td>\n",
       "      <td>1552.0</td>\n",
       "      <td>115.638889</td>\n",
       "      <td>576.677778</td>\n",
       "      <td>0.641108</td>\n",
       "    </tr>\n",
       "    <tr>\n",
       "      <th>182</th>\n",
       "      <td>306.0</td>\n",
       "      <td>167.0</td>\n",
       "      <td>89.0</td>\n",
       "      <td>64.0</td>\n",
       "      <td>379.0</td>\n",
       "      <td>693897</td>\n",
       "      <td>2324</td>\n",
       "      <td>699.0</td>\n",
       "      <td>76.100000</td>\n",
       "      <td>195.816667</td>\n",
       "      <td>0.542203</td>\n",
       "    </tr>\n",
       "    <tr>\n",
       "      <th>152</th>\n",
       "      <td>434.0</td>\n",
       "      <td>69.0</td>\n",
       "      <td>49.0</td>\n",
       "      <td>47.0</td>\n",
       "      <td>453.0</td>\n",
       "      <td>903398</td>\n",
       "      <td>2843</td>\n",
       "      <td>618.0</td>\n",
       "      <td>41.750000</td>\n",
       "      <td>342.166667</td>\n",
       "      <td>0.733010</td>\n",
       "    </tr>\n",
       "    <tr>\n",
       "      <th>172n</th>\n",
       "      <td>315.0</td>\n",
       "      <td>110.0</td>\n",
       "      <td>62.0</td>\n",
       "      <td>57.0</td>\n",
       "      <td>372.0</td>\n",
       "      <td>639461</td>\n",
       "      <td>1995</td>\n",
       "      <td>601.0</td>\n",
       "      <td>45.466667</td>\n",
       "      <td>211.716667</td>\n",
       "      <td>0.618968</td>\n",
       "    </tr>\n",
       "    <tr>\n",
       "      <th>172m</th>\n",
       "      <td>217.0</td>\n",
       "      <td>67.0</td>\n",
       "      <td>53.0</td>\n",
       "      <td>50.0</td>\n",
       "      <td>362.0</td>\n",
       "      <td>443462</td>\n",
       "      <td>1455</td>\n",
       "      <td>532.0</td>\n",
       "      <td>31.083333</td>\n",
       "      <td>132.916667</td>\n",
       "      <td>0.680451</td>\n",
       "    </tr>\n",
       "    <tr>\n",
       "      <th>...</th>\n",
       "      <td>...</td>\n",
       "      <td>...</td>\n",
       "      <td>...</td>\n",
       "      <td>...</td>\n",
       "      <td>...</td>\n",
       "      <td>...</td>\n",
       "      <td>...</td>\n",
       "      <td>...</td>\n",
       "      <td>...</td>\n",
       "      <td>...</td>\n",
       "      <td>...</td>\n",
       "    </tr>\n",
       "    <tr>\n",
       "      <th>c150h</th>\n",
       "      <td>1.0</td>\n",
       "      <td>0.0</td>\n",
       "      <td>0.0</td>\n",
       "      <td>0.0</td>\n",
       "      <td>1.0</td>\n",
       "      <td>2007</td>\n",
       "      <td>4</td>\n",
       "      <td>1.0</td>\n",
       "      <td>0.000000</td>\n",
       "      <td>1.000000</td>\n",
       "      <td>1.000000</td>\n",
       "    </tr>\n",
       "    <tr>\n",
       "      <th>citation500</th>\n",
       "      <td>2.0</td>\n",
       "      <td>0.0</td>\n",
       "      <td>0.0</td>\n",
       "      <td>0.0</td>\n",
       "      <td>1.0</td>\n",
       "      <td>2016</td>\n",
       "      <td>12</td>\n",
       "      <td>1.0</td>\n",
       "      <td>0.000000</td>\n",
       "      <td>1.000000</td>\n",
       "      <td>1.000000</td>\n",
       "    </tr>\n",
       "    <tr>\n",
       "      <th>cessna441</th>\n",
       "      <td>0.0</td>\n",
       "      <td>0.0</td>\n",
       "      <td>0.0</td>\n",
       "      <td>0.0</td>\n",
       "      <td>0.0</td>\n",
       "      <td>2019</td>\n",
       "      <td>6</td>\n",
       "      <td>0.0</td>\n",
       "      <td>0.000000</td>\n",
       "      <td>0.000000</td>\n",
       "      <td>NaN</td>\n",
       "    </tr>\n",
       "    <tr>\n",
       "      <th>c208bcaravan</th>\n",
       "      <td>0.0</td>\n",
       "      <td>0.0</td>\n",
       "      <td>0.0</td>\n",
       "      <td>0.0</td>\n",
       "      <td>0.0</td>\n",
       "      <td>2008</td>\n",
       "      <td>1</td>\n",
       "      <td>0.0</td>\n",
       "      <td>0.000000</td>\n",
       "      <td>0.000000</td>\n",
       "      <td>NaN</td>\n",
       "    </tr>\n",
       "    <tr>\n",
       "      <th>180undesignat</th>\n",
       "      <td>0.0</td>\n",
       "      <td>0.0</td>\n",
       "      <td>0.0</td>\n",
       "      <td>0.0</td>\n",
       "      <td>0.0</td>\n",
       "      <td>2015</td>\n",
       "      <td>6</td>\n",
       "      <td>0.0</td>\n",
       "      <td>0.000000</td>\n",
       "      <td>0.000000</td>\n",
       "      <td>NaN</td>\n",
       "    </tr>\n",
       "  </tbody>\n",
       "</table>\n",
       "<p>374 rows × 11 columns</p>\n",
       "</div>"
      ],
      "text/plain": [
       "               Number.of.Engines  Total.Fatal.Injuries  \\\n",
       "Model                                                    \n",
       "172                        795.0                 239.0   \n",
       "182                        306.0                 167.0   \n",
       "152                        434.0                  69.0   \n",
       "172n                       315.0                 110.0   \n",
       "172m                       217.0                  67.0   \n",
       "...                          ...                   ...   \n",
       "c150h                        1.0                   0.0   \n",
       "citation500                  2.0                   0.0   \n",
       "cessna441                    0.0                   0.0   \n",
       "c208bcaravan                 0.0                   0.0   \n",
       "180undesignat                0.0                   0.0   \n",
       "\n",
       "               Total.Serious.Injuries  Total.Minor.Injuries  Total.Uninjured  \\\n",
       "Model                                                                          \n",
       "172                             185.0                 133.0            995.0   \n",
       "182                              89.0                  64.0            379.0   \n",
       "152                              49.0                  47.0            453.0   \n",
       "172n                             62.0                  57.0            372.0   \n",
       "172m                             53.0                  50.0            362.0   \n",
       "...                               ...                   ...              ...   \n",
       "c150h                             0.0                   0.0              1.0   \n",
       "citation500                       0.0                   0.0              1.0   \n",
       "cessna441                         0.0                   0.0              0.0   \n",
       "c208bcaravan                      0.0                   0.0              0.0   \n",
       "180undesignat                     0.0                   0.0              0.0   \n",
       "\n",
       "                  Year  Month  Number of passengers  Fatality rate  \\\n",
       "Model                                                                \n",
       "172            1746612   5698                1552.0     115.638889   \n",
       "182             693897   2324                 699.0      76.100000   \n",
       "152             903398   2843                 618.0      41.750000   \n",
       "172n            639461   1995                 601.0      45.466667   \n",
       "172m            443462   1455                 532.0      31.083333   \n",
       "...                ...    ...                   ...            ...   \n",
       "c150h             2007      4                   1.0       0.000000   \n",
       "citation500       2016     12                   1.0       0.000000   \n",
       "cessna441         2019      6                   0.0       0.000000   \n",
       "c208bcaravan      2008      1                   0.0       0.000000   \n",
       "180undesignat     2015      6                   0.0       0.000000   \n",
       "\n",
       "               Uninjured rate  cessna_uninj  \n",
       "Model                                        \n",
       "172                576.677778      0.641108  \n",
       "182                195.816667      0.542203  \n",
       "152                342.166667      0.733010  \n",
       "172n               211.716667      0.618968  \n",
       "172m               132.916667      0.680451  \n",
       "...                       ...           ...  \n",
       "c150h                1.000000      1.000000  \n",
       "citation500          1.000000      1.000000  \n",
       "cessna441            0.000000           NaN  \n",
       "c208bcaravan         0.000000           NaN  \n",
       "180undesignat        0.000000           NaN  \n",
       "\n",
       "[374 rows x 11 columns]"
      ]
     },
     "execution_count": 53,
     "metadata": {},
     "output_type": "execute_result"
    }
   ],
   "source": [
    "reg_cess = df.loc[(df['Make']== \"cessna\")]\n",
    "reg_cess = reg_cess.sort_values(by='Model', ascending=False)\n",
    "reg_cess = reg_cess.groupby('Model').sum(numeric_only=True)\n",
    "reg_cess = reg_cess.sort_values(by='Number of passengers', ascending=False)\n",
    "reg_cess['cessna_uninj'] = reg_cess['Total.Uninjured']/reg_cess['Number of passengers']\n",
    "reg_cess"
   ]
  },
  {
   "cell_type": "markdown",
   "metadata": {},
   "source": [
    "# Export the Data"
   ]
  },
  {
   "cell_type": "code",
   "execution_count": 54,
   "metadata": {},
   "outputs": [],
   "source": [
    "df.to_csv('data/Clean_data.csv')"
   ]
  }
 ],
 "metadata": {
  "kernelspec": {
   "display_name": "Python (learn-env)",
   "language": "python",
   "name": "learn-env"
  },
  "language_info": {
   "codemirror_mode": {
    "name": "ipython",
    "version": 3
   },
   "file_extension": ".py",
   "mimetype": "text/x-python",
   "name": "python",
   "nbconvert_exporter": "python",
   "pygments_lexer": "ipython3",
   "version": "3.8.5"
  }
 },
 "nbformat": 4,
 "nbformat_minor": 4
}
